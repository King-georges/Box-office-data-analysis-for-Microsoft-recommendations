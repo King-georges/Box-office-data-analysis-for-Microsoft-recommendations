{
 "cells": [
  {
   "cell_type": "markdown",
   "metadata": {},
   "source": [
    "# Box office data analysis for Microsoft recommendations\n",
    "---\n",
    "## Introduction\n",
    "Microsoft recognizes the trend among major corporations venturing into original video content production and is eager to join the industry. To seize this opportunity, Microsoft has made the strategic decision to establish its own movie studio. However, given their lack of expertise in the filmmaking domain, the role of this project is to investigate the current landscape of successful films at the box office and analyzing the types of films that are currently performing exceptionally well in terms of box office revenue. \n",
    "\n",
    "The goal is to provide actionable insights that can guide the decision-making process for the head of Microsoft's new movie studio. By understanding the preferences and trends in the market, the project aims to assist Microsoft in identifying the most promising genres, themes, and styles that resonate with audiences.\n",
    "\n",
    "The ultimate objective is to translate these research findings into practical recommendations for the new movie studio, aiding them in making informed choices about the types of films to produce. This strategic approach ensures that Microsoft's entry into the world of filmmaking aligns with current market demands and maximizes the potential for success in the highly competitive entertainment industry.\n",
    "\n",
    "\n",
    "\n",
    "\n",
    "\n"
   ]
  }
 ],
 "metadata": {
  "kernelspec": {
   "display_name": "learn-env",
   "language": "python",
   "name": "python3"
  },
  "language_info": {
   "codemirror_mode": {
    "name": "ipython",
    "version": 3
   },
   "file_extension": ".py",
   "mimetype": "text/x-python",
   "name": "python",
   "nbconvert_exporter": "python",
   "pygments_lexer": "ipython3",
   "version": "3.10.13"
  }
 },
 "nbformat": 4,
 "nbformat_minor": 2
}
