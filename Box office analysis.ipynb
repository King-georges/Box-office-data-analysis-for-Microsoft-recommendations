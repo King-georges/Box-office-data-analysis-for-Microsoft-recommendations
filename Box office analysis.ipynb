{
 "cells": [
  {
   "cell_type": "markdown",
   "metadata": {},
   "source": [
    "# Box office data analysis for Microsoft recommendations\n",
    "---\n",
    "## Introduction\n",
    "Microsoft recognizes the trend among major corporations venturing into original video content production and is eager to join the industry. To seize this opportunity, Microsoft has made the strategic decision to establish its own movie studio. However, given their lack of expertise in the filmmaking domain, the role of this project is to investigate the current landscape of successful films at the box office and analyzing the types of films that are currently performing exceptionally well in terms of box office revenue. \n",
    "\n",
    "The goal is to provide actionable insights that can guide the decision-making process for the head of Microsoft's new movie studio. By understanding the preferences and trends in the market, the project aims to assist Microsoft in identifying the most promising genres, themes, and styles that resonate with audiences.\n",
    "\n",
    "\n",
    "\n",
    "---\n",
    "\n",
    "\n",
    "\n",
    "\n",
    "\n",
    "\n"
   ]
  },
  {
   "cell_type": "markdown",
   "metadata": {},
   "source": [
    "## Details on the data sets\n",
    "The datasets are from  popular platforms and databases related to the film industry, each serving different purposes. Here's a brief overview of each:\n",
    "1. **Box Office Mojo:**\n",
    "\n",
    "**Purpose:** Box Office Mojo is a website that focuses on providing box office revenue information for films.\n",
    "\n",
    "**Features:** It includes details such as box office gross, release dates, production budgets, and more. It's a valuable resource for understanding the financial performance of movies.\n",
    "\n",
    "2. **IMDB (Internet Movie Database):**\n",
    "\n",
    "**Purpose:** IMDB is a comprehensive database of films, television shows, and industry professionals.\n",
    "\n",
    "**Features:** It includes information on cast and crew, production details, user ratings, reviews, and trivia. IMDB is widely used for its extensive coverage of the entertainment industry.\n",
    "\n",
    "3. **Rotten Tomatoes:**\n",
    "\n",
    "**Purpose:** Rotten Tomatoes is a review-aggregation website that provides information on film and television reviews.\n",
    "\n",
    "**Features:** It aggregates reviews from critics and audiences, providing a \"Tomatometer\" score that reflects the overall critical reception. It's commonly used to gauge the general consensus on a movie's quality.\n",
    "\n",
    "4. **TheMovieDB (TMDb):**\n",
    "\n",
    "**Purpose:** TheMovieDB is an online database that focuses on providing metadata for movies and TV shows.\n",
    "\n",
    "**Features:** It includes information on cast, crew, plot summaries, posters, and fan-contributed content. Developers often use TMDb for building applications related to movies and TV shows.\n",
    "\n",
    "5. **The Numbers:**\n",
    "\n",
    "**Purpose:** The Numbers is a website that focuses on providing detailed financial information for movies.\n",
    "\n",
    "**Features:** It offers box office data, home video sales, and other financial metrics. It's particularly useful for understanding the financial aspects of the film industry. \n",
    "\n",
    "These platforms collectively offer a wealth of information for industry professionals, movie enthusiasts, and those involved in decision-making related to film production, distribution, and consumption. Filmmakers, studios, and investors often use data from these sources to make informed decisions about their projects.\n",
    "\n",
    "---"
   ]
  },
  {
   "cell_type": "markdown",
   "metadata": {},
   "source": [
    "## GOAL OF THE PROJECT/ PROBLEM STATEMENT\n",
    "This project aims at conducting data analysis on box office trends to provide strategic recommendations to Microsoft which would like to get in on the movie business. The ultimate objective is to translate these research findings into practical recommendations for the new movie studio, aiding them in making informed choices about the types of films to produce. This strategic approach ensures that Microsoft's entry into the world of filmmaking aligns with current market demands and maximizes the potential for success in the highly competitive entertainment industry\n",
    "\n",
    "---"
   ]
  },
  {
   "cell_type": "markdown",
   "metadata": {},
   "source": [
    "## 1. Importing necessary libraries for the project\n"
   ]
  },
  {
   "cell_type": "code",
   "execution_count": 2,
   "metadata": {},
   "outputs": [],
   "source": [
    "import numpy as np\n",
    "import pandas as pd\n",
    "import matplotlib.pyplot as plt\n",
    "import seaborn as sns\n",
    "import sqlite3"
   ]
  }
 ],
 "metadata": {
  "kernelspec": {
   "display_name": "learn-env",
   "language": "python",
   "name": "python3"
  },
  "language_info": {
   "codemirror_mode": {
    "name": "ipython",
    "version": 3
   },
   "file_extension": ".py",
   "mimetype": "text/x-python",
   "name": "python",
   "nbconvert_exporter": "python",
   "pygments_lexer": "ipython3",
   "version": "3.10.13"
  }
 },
 "nbformat": 4,
 "nbformat_minor": 2
}
